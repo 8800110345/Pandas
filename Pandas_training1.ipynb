{
  "nbformat": 4,
  "nbformat_minor": 0,
  "metadata": {
    "colab": {
      "name": "Pandas_training1.ipynb",
      "provenance": [],
      "authorship_tag": "ABX9TyMnzAAPFQqAHdau92vN4EMe",
      "include_colab_link": true
    },
    "kernelspec": {
      "name": "python3",
      "display_name": "Python 3"
    }
  },
  "cells": [
    {
      "cell_type": "markdown",
      "metadata": {
        "id": "view-in-github",
        "colab_type": "text"
      },
      "source": [
        "<a href=\"https://colab.research.google.com/github/8800110345/Pandas/blob/master/Pandas_training1.ipynb\" target=\"_parent\"><img src=\"https://colab.research.google.com/assets/colab-badge.svg\" alt=\"Open In Colab\"/></a>"
      ]
    },
    {
      "cell_type": "code",
      "metadata": {
        "id": "kaEjU93q2u5b",
        "colab_type": "code",
        "colab": {}
      },
      "source": [
        "intro to pandas\n",
        "series\n",
        "data frame\n",
        "\n",
        "#numpy pandas matplotlib sklearn\n",
        "#pandas very very imp\n",
        "-->data anlysis-->it requires lot of preprocessing (restructing,cleaning ,merge etc. )\n",
        "-->data processing in fast way\n",
        "-->numpy is required for operating the pandas\n",
        "--load ,manipulate,prepare ,model,analyze\n",
        "-->group by data aggression,transformation\n",
        "\n",
        "--series(1d array) vs dataframe(2d array)\n",
        "-->[10,20,30]   1d  series   no column has been added\n",
        "-->[[10,20,30],[40,50,60]]   2d   datafarme"
      ],
      "execution_count": null,
      "outputs": []
    },
    {
      "cell_type": "code",
      "metadata": {
        "id": "QjW_kZ6n7Msm",
        "colab_type": "code",
        "colab": {}
      },
      "source": [
        "# series-->1 d array\n",
        "# series -->create--array,dic,scalar value"
      ],
      "execution_count": null,
      "outputs": []
    },
    {
      "cell_type": "code",
      "metadata": {
        "id": "1KuOLQcq7k00",
        "colab_type": "code",
        "colab": {
          "base_uri": "https://localhost:8080/",
          "height": 35
        },
        "outputId": "a37b26fe-6b3b-40be-d2ba-c0764a0b18ca"
      },
      "source": [
        " import  numpy as np\n",
        " x=np.array([10,20,30,40,50])\n",
        " print(x)"
      ],
      "execution_count": 11,
      "outputs": [
        {
          "output_type": "stream",
          "text": [
            "[10 20 30 40 50]\n"
          ],
          "name": "stdout"
        }
      ]
    },
    {
      "cell_type": "code",
      "metadata": {
        "id": "LMB8A-pp8jnK",
        "colab_type": "code",
        "colab": {
          "base_uri": "https://localhost:8080/",
          "height": 126
        },
        "outputId": "9567d581-1947-40d3-e4cf-85c98a73b708"
      },
      "source": [
        "import pandas as pd\n",
        "import numpy as np\n",
        "x=np.array([10,20,30,40])   #list\n",
        "print(x)             # 10 20 30 40\n",
        "\n",
        "a=pd.Series(x)\n",
        "print(a)\n",
        "\n"
      ],
      "execution_count": 12,
      "outputs": [
        {
          "output_type": "stream",
          "text": [
            "[10 20 30 40]\n",
            "0    10\n",
            "1    20\n",
            "2    30\n",
            "3    40\n",
            "dtype: int64\n"
          ],
          "name": "stdout"
        }
      ]
    },
    {
      "cell_type": "code",
      "metadata": {
        "id": "tSJ1glaX9a9V",
        "colab_type": "code",
        "colab": {
          "base_uri": "https://localhost:8080/",
          "height": 126
        },
        "outputId": "2aff7847-8d39-476d-dc0b-b89a129d5813"
      },
      "source": [
        "#create pandas by using dict\n",
        "import pandas as pd\n",
        "import numpy as np\n",
        "x={10:0,20:1,30:2,40:4}\n",
        "print(x)\n",
        "\n",
        "a=pd.Series(x)\n",
        "print(a)"
      ],
      "execution_count": 14,
      "outputs": [
        {
          "output_type": "stream",
          "text": [
            "{10: 0, 20: 1, 30: 2, 40: 4}\n",
            "10    0\n",
            "20    1\n",
            "30    2\n",
            "40    4\n",
            "dtype: int64\n"
          ],
          "name": "stdout"
        }
      ]
    },
    {
      "cell_type": "code",
      "metadata": {
        "id": "3WzkExWl-DpP",
        "colab_type": "code",
        "colab": {}
      },
      "source": [
        ""
      ],
      "execution_count": null,
      "outputs": []
    },
    {
      "cell_type": "code",
      "metadata": {
        "id": "M0VPinhi-EGr",
        "colab_type": "code",
        "colab": {
          "base_uri": "https://localhost:8080/",
          "height": 108
        },
        "outputId": "5d13342e-c69d-47f3-fb9a-495b26bfebd6"
      },
      "source": [
        "#by using scalar\n",
        "import pandas as pd\n",
        "#import numpy as np\n",
        "x=pd.Series([10,20,30,40],index=[0,1,2,3])\n",
        "print(x)"
      ],
      "execution_count": 24,
      "outputs": [
        {
          "output_type": "stream",
          "text": [
            "0    10\n",
            "1    20\n",
            "2    30\n",
            "3    40\n",
            "dtype: int64\n"
          ],
          "name": "stdout"
        }
      ]
    }
  ]
}